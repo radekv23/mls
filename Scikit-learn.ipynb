{
 "cells": [
  {
   "cell_type": "markdown",
   "metadata": {},
   "source": [
    "## Scikit Learn overview"
   ]
  },
  {
   "cell_type": "markdown",
   "metadata": {},
   "source": [
    "### Introduction:"
   ]
  },
  {
   "cell_type": "markdown",
   "metadata": {},
   "source": [
    "Scikit-learn is a simple Python library that efficiently implements a variety of machine learning algorithms. It was initially developed in 2007 by David Cournapeau but the first public release (v0.1 beta) was released in late January. It is perhaps foremost powerful machine learning library. Classification, regression, clustering, and dimensionality reduction are just a few of the useful capabilities in the sklearn toolkit for machine learning and statistical modeling. \n",
    "Scikit-learn has a lot of useful features. To help you grasp the spread, here are some components:\n",
    "##### Supervised learning algorithms: \n",
    "Almost all of supervised machine learning algorithms are part of scikit-learn package including Support Vector Machines (SVM), Linear models (for example Linear Regression), Decision Trees to Bayesian methods. One of the main reasons for scikit-learn's popularity is the widespread use of machine learning algorithms.\n",
    "##### Unsupervised learning algorithms: \n",
    "Scikit learn also contains a large number of unsupervised machine learning algorithms such as principal component analysis(PCA),clustering, factor analysis, and  as well as unsupervised neural networks.\n",
    "##### Cross-validation: \n",
    "Using sklearn, you can assess the correctness of supervised models on unknown data in a variety of ways.\n",
    "##### Dimensionality Reduction:\n",
    "Scikit learn provides functionality to minimise the number of attributes in data for summarization, visualisation, and feature selection e.g. Principal component analysis.\n",
    "##### Feature extraction:\n",
    "Scikit-learn can also be used for images and text features extraction(e.g. Bag of words)\n",
    "##### Various toy datasets: \n",
    "It also provide various academic datasets e.g. IRIS dataset and Boston House prices dataset. it will help alot while learning a new library."
   ]
  },
  {
   "cell_type": "markdown",
   "metadata": {},
   "source": [
    "### Demonistration"
   ]
  },
  {
   "cell_type": "markdown",
   "metadata": {},
   "source": [
    "In next part i will implement 3 interesting algorithms of Scikit-Learn\n",
    "\n",
    "Decision Tree Classifier\n",
    "\n",
    "K Nearest Neighbors (K-NN)\n",
    "\n",
    "Support Vector Machines (SVM)"
   ]
  },
  {
   "cell_type": "code",
   "execution_count": 119,
   "metadata": {},
   "outputs": [],
   "source": [
    "#Importing Required packages and dataset\n",
    "from sklearn import metrics\n",
    "from sklearn import datasets\n",
    "import pandas as pd\n",
    "import matplotlib.pyplot as plt\n",
    "from sklearn.metrics import accuracy_score\n",
    "# loading the breast cancer dataset\n",
    "dataset = datasets.load_breast_cancer()"
   ]
  },
  {
   "cell_type": "code",
   "execution_count": 50,
   "metadata": {},
   "outputs": [
    {
     "data": {
      "image/png": "[encoded data removed]",
      "text/plain": [
       "<Figure size 432x288 with 1 Axes>"
      ]
     },
     "metadata": {
      "needs_background": "light"
     },
     "output_type": "display_data"
    }
   ],
   "source": [
    "from numpy import where\n",
    "# viewing insights in dataset\n",
    "X=dataset.data\n",
    "y=dataset.target\n",
    "for class_value in range(2):\n",
    "    row_ix = where(y == class_value)\n",
    "    # creating two-dimensional class numerical feature space of dataset for first 2 features\n",
    "    plt.scatter(X[row_ix, 0], X[row_ix, 1])\n",
    "# show the plot\n",
    "plt.show()"
   ]
  },
  {
   "cell_type": "code",
   "execution_count": 8,
   "metadata": {},
   "outputs": [],
   "source": [
    "# Splitting dataset into Train and Test sets  splits.\n",
    "from sklearn.model_selection import train_test_split\n",
    "\n",
    "X_train, X_test, y_train, y_test = train_test_split(dataset.data, dataset.target, test_size=0.2, random_state=1)\n",
    "# This will split dataset into 80% tarining set and 20% testing set."
   ]
  },
  {
   "cell_type": "markdown",
   "metadata": {},
   "source": [
    "#### Decision Tree Classifier"
   ]
  },
  {
   "cell_type": "code",
   "execution_count": 12,
   "metadata": {},
   "outputs": [
    {
     "name": "stdout",
     "output_type": "stream",
     "text": [
      "DecisionTreeClassifier(ccp_alpha=0.0, class_weight=None, criterion='gini',\n",
      "                       max_depth=None, max_features=None, max_leaf_nodes=None,\n",
      "                       min_impurity_decrease=0.0, min_impurity_split=None,\n",
      "                       min_samples_leaf=1, min_samples_split=2,\n",
      "                       min_weight_fraction_leaf=0.0, presort='deprecated',\n",
      "                       random_state=None, splitter='best')\n"
     ]
    }
   ],
   "source": [
    "from sklearn.tree import DecisionTreeClassifier\n",
    "\n",
    "# fit a DT model to the dataset with default parameters\n",
    "model_1= DecisionTreeClassifier()\n",
    "model_1.fit(X_train, y_train)\n",
    "print(model_1)"
   ]
  },
  {
   "cell_type": "code",
   "execution_count": 120,
   "metadata": {},
   "outputs": [
    {
     "name": "stdout",
     "output_type": "stream",
     "text": [
      "              precision    recall  f1-score   support\n",
      "\n",
      "           0       0.97      0.90      0.94        42\n",
      "           1       0.95      0.99      0.97        72\n",
      "\n",
      "    accuracy                           0.96       114\n",
      "   macro avg       0.96      0.95      0.95       114\n",
      "weighted avg       0.96      0.96      0.96       114\n",
      "\n",
      "Confusion Metrics\n",
      "[[38  4]\n",
      " [ 1 71]]\n",
      "Confusion Metrics shows correctly classified instances in diagonal\n",
      "Decision Tree Classifier accuracy score :  0.956140350877193\n"
     ]
    }
   ],
   "source": [
    "#predicting target\n",
    "y_predicted_m1= model_1.predict(X_test)  # It will return predicted y labels.\n",
    "# Evaluating our model\n",
    "print(metrics.classification_report(y_test, y_predicted_m1))\n",
    "print(\"Confusion Metrics\")\n",
    "print(metrics.confusion_matrix(y_test, y_predicted_m1))\n",
    "print(\"Confusion Metrics shows correctly classified instances in diagonal\") \n",
    "\n",
    "# modle accuracy\n",
    "print (\"Decision Tree Classifier accuracy score : \",accuracy_score(y_test, y_predicted_m1))"
   ]
  },
  {
   "cell_type": "markdown",
   "metadata": {},
   "source": [
    "#### K Nearest Neighbors (K-NN)"
   ]
  },
  {
   "cell_type": "code",
   "execution_count": 122,
   "metadata": {},
   "outputs": [
    {
     "name": "stdout",
     "output_type": "stream",
     "text": [
      "              precision    recall  f1-score   support\n",
      "\n",
      "           0       0.92      0.86      0.89        42\n",
      "           1       0.92      0.96      0.94        72\n",
      "\n",
      "    accuracy                           0.92       114\n",
      "   macro avg       0.92      0.91      0.91       114\n",
      "weighted avg       0.92      0.92      0.92       114\n",
      "\n",
      "Confusion Metrics\n",
      "[[36  6]\n",
      " [ 3 69]]\n",
      "Confusion Metrics shows correctly classified instances in diagonal\n",
      "Decision Tree Classifier accuracy score :  0.9210526315789473\n"
     ]
    }
   ],
   "source": [
    "from sklearn.neighbors import KNeighborsClassifier\n",
    "\n",
    "model_2= KNeighborsClassifier(n_neighbors=3)\n",
    "#Train the algorithm\n",
    "model_2.fit(X_train, y_train)\n",
    "# predict the response\n",
    "y_predicted_m2 = model_2.predict(X_test)\n",
    "(y_test, y_predicted_m2)\n",
    "\n",
    "# Evaluating our Knn model\n",
    "print(metrics.classification_report(y_test, y_predicted_m2))\n",
    "print(\"Confusion Metrics\")\n",
    "print(metrics.confusion_matrix(y_test, y_predicted_m2))\n",
    "print(\"Confusion Metrics shows correctly classified instances in diagonal\") \n",
    "\n",
    "# modle accuracy\n",
    "print (\"Decision Tree Classifier accuracy score : \",accuracy_score(y_test, y_predicted_m2))"
   ]
  },
  {
   "cell_type": "markdown",
   "metadata": {},
   "source": [
    "#### Support Vector Machines (SVM)"
   ]
  },
  {
   "cell_type": "code",
   "execution_count": 123,
   "metadata": {},
   "outputs": [
    {
     "name": "stdout",
     "output_type": "stream",
     "text": [
      "              precision    recall  f1-score   support\n",
      "\n",
      "           0       1.00      0.74      0.85        42\n",
      "           1       0.87      1.00      0.93        72\n",
      "\n",
      "    accuracy                           0.90       114\n",
      "   macro avg       0.93      0.87      0.89       114\n",
      "weighted avg       0.92      0.90      0.90       114\n",
      "\n",
      "Confusion Metrics\n",
      "[[31 11]\n",
      " [ 0 72]]\n",
      "Confusion Metrics shows correctly classified instances in diagonal\n",
      "Decision Tree Classifier accuracy score :  0.9035087719298246\n"
     ]
    }
   ],
   "source": [
    "from sklearn import svm\n",
    "model_3 = svm.SVC()\n",
    "#Training SVM algorithm\n",
    "model_3.fit(X_train, y_train)\n",
    "# predict the response\n",
    "y_predicted_m3 = model_3.predict(X_test)\n",
    "(y_test, y_predicted_m3)\n",
    "\n",
    "# Evaluating our Knn model\n",
    "print(metrics.classification_report(y_test, y_predicted_m3))\n",
    "print(\"Confusion Metrics\")\n",
    "print(metrics.confusion_matrix(y_test, y_predicted_m3))\n",
    "\n",
    "# modle accuracy\n",
    "print (\"Support Vector Machine(SVM) Algorithm accuracy score : \",accuracy_score(y_test, y_predicted_m3))"
   ]
  },
  {
   "cell_type": "markdown",
   "metadata": {},
   "source": [
    "### Conclusion"
   ]
  },
  {
   "cell_type": "markdown",
   "metadata": {},
   "source": [
    "Here, I have just scraped the surface of what we can do with the scikit-learn library. we can implement and train multiple Machine Learning algorithms with just a few line of codes and compare there performance aswell. I have implemented 3 most important algorithms of machine learning on publically available Breast cancer dataset. Decision Tree(DT) classifier out performed among all 3 with 96% accuracy."
   ]
  },
  {
   "cell_type": "markdown",
   "metadata": {},
   "source": [
    "### References\n",
    "\n",
    "1. https://www.analyticsvidhya.com/blog/2015/01/scikit-learn-python-machine-learning-tool/\n",
    "\n",
    "2. https://machinelearningmastery.com/a-gentle-introduction-to-scikit-learn-a-python-machine-learning-library/\n",
    "3. Hao.et al., \"Machine Learning Made Easy: A Review of Scikit-learn Package in Python Programming Language\", Journal of Educational and Behavioral Statistics, 2019.\n",
    "4. A Géron, \"Hands-on machine learning with Scikit-Learn, Keras, and TensorFlow: Concepts, tools, and techniques to build intelligent systems\",O'Reilly, 2019.\n",
    "5. https://medium.com/@mmceld2/scikit-learn-in-machine-learning-e6fd4524e74\n"
   ]
  }
 ],
 "metadata": {
  "kernelspec": {
   "display_name": "Python 3",
   "language": "python",
   "name": "python3"
  },
  "language_info": {
   "codemirror_mode": {
    "name": "ipython",
    "version": 3
   },
   "file_extension": ".py",
   "mimetype": "text/x-python",
   "name": "python",
   "nbconvert_exporter": "python",
   "pygments_lexer": "ipython3",
   "version": "3.8.8"
  }
 },
 "nbformat": 4,
 "nbformat_minor": 4
}
