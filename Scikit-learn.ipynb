{
 "cells": [
  {
   "cell_type": "markdown",
   "id": "1b203b89-4b4c-418d-921e-4ad4c1910ca3",
   "metadata": {},
   "source": [
    "### Introduction:\n"
   ]
  },
  {
   "cell_type": "markdown",
   "id": "e0c21448-089d-4030-a002-98027615a9f8",
   "metadata": {},
   "source": [
    "Scikit-learn is a simple Python library that efficiently implements a variety of machine learning algorithms. It was initially developed in 2007 by David Cournapeau but the first public release (v0.1 beta) was released in late January. It is perhaps foremost powerful machine learning library. Classification, regression, clustering, and dimensionality reduction are just a few of the useful capabilities in the sklearn toolkit for machine learning and statistical modeling. \n",
    "Scikit-learn has a lot of useful features. To help you grasp the spread, here are some components:\n",
    "##### Supervised learning algorithms: \n",
    "Almost all of supervised machine learning algorithms are part of scikit-learn package including Support Vector Machines (SVM), Linear models (for example Linear Regression), Decision Trees to Bayesian methods. One of the main reasons for scikit-learn's popularity is the widespread use of machine learning algorithms.\n",
    "##### Unsupervised learning algorithms: \n",
    "Scikit learn also contains a large number of unsupervised machine learning algorithms such as principal component analysis(PCA),clustering, factor analysis, and  as well as unsupervised neural networks.\n",
    "##### Cross-validation: \n",
    "Using sklearn, you can assess the correctness of supervised models on unknown data in a variety of ways.\n",
    "##### Dimensionality Reduction:\n",
    "Scikit learn provides functionality to minimise the number of attributes in data for summarization, visualisation, and feature selection e.g. Principal component analysis.\n",
    "##### Feature extraction:\n",
    "Scikit-learn can also be used for images and text features extraction(e.g. Bag of words)\n",
    "##### Various toy datasets: \n",
    "It also provide various academic datasets e.g. IRIS dataset and Boston House prices dataset. it will help alot while learning a new library."
   ]
  },
  {
   "cell_type": "markdown",
   "id": "606bec04-aa4f-4190-8db9-8b1214f07865",
   "metadata": {},
   "source": [
    "### Demonistration"
   ]
  },
  {
   "cell_type": "markdown",
   "id": "bb97acc3-3ebc-4f86-81fa-fff06507d358",
   "metadata": {},
   "source": [
    "In next part i will implement 3 interesting algorithms of Scikit-Learn\n",
    "\n",
    "Decision Tree Classifier\n",
    "\n",
    "K Nearest Neighbors (K-NN)\n",
    "\n",
    "Support Vector Machines (SVM)"
   ]
  },
  {
   "cell_type": "code",
   "execution_count": 1,
   "id": "837481b1-e2c1-41ab-b5a5-3d0bc0a486ef",
   "metadata": {},
   "outputs": [],
   "source": [
    "#Importing Required packages and dataset\n",
    "\n",
    "from sklearn import metrics\n",
    "from sklearn import datasets\n",
    "import pandas as pd\n",
    "import matplotlib.pyplot as plt\n",
    "from sklearn.metrics import accuracy_score\n",
    "# loading the breast cancer dataset\n",
    "dataset = datasets.load_breast_cancer()"
   ]
  },
  {
   "cell_type": "code",
   "execution_count": null,
   "id": "de882b5e-881e-4255-8252-b63e0f28e2da",
   "metadata": {},
   "outputs": [],
   "source": []
  }
 ],
 "metadata": {
  "kernelspec": {
   "display_name": "Python 3",
   "language": "python",
   "name": "python3"
  },
  "language_info": {
   "codemirror_mode": {
    "name": "ipython",
    "version": 3
   },
   "file_extension": ".py",
   "mimetype": "text/x-python",
   "name": "python",
   "nbconvert_exporter": "python",
   "pygments_lexer": "ipython3",
   "version": "3.8.8"
  }
 },
 "nbformat": 4,
 "nbformat_minor": 5
}
