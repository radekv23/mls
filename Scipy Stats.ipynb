{
 "cells": [
  {
   "cell_type": "markdown",
   "id": "99755a90-c337-463d-ab7f-f5bd64e02160",
   "metadata": {},
   "source": [
    "## Scipy Stats overview"
   ]
  },
  {
   "cell_type": "markdown",
   "id": "2d82babb-e362-4efe-ae93-c25ec4f5bc5b",
   "metadata": {},
   "source": [
    "### Introduction:\n",
    "\n",
    "Scipy-Stats is basically a sub-package of SciPy library. SciPy library is a compelete package for performing statistical functions. Scipy-Stats is mainly used for  statistical operations and probabilistic distributions. in includes a wide range of probability functions.As the library is open-source, its statistical functionality is expanding.\n",
    "\n",
    "We have functions for both continuous and discrete variables and can work with different types of distributions like the binomial, uniform, and continuous. We can also perform the T-test and determine the T-score."
   ]
  },
  {
   "cell_type": "markdown",
   "id": "0290fe6c-249c-4f37-897b-1a575dd63336",
   "metadata": {},
   "source": [
    "### Scipy Stats Funcationalities\n",
    "All the available functions of scipy-stats can be viewed by using inf(stats)command. \n",
    "This package contains a large number of probability distributions, summary and frequency statistics,statistical tests and correlation functions ,quasi-Monte Carlo functionality, kernel density estimation, masked statistics and more.\n",
    "It consists on the following three main classes:\n",
    "\n",
    "##### 1. rv_continuous:\n",
    "It is a generic base class that can be used for constructing specific distribution sub-classes and instances for continuous random variables.\n",
    "\n",
    "##### 2. rv_discrete:\n",
    "It is a generic base class that can be used for constructing specific distribution sub-classes and instances for continuous random variables.\n",
    "##### 3. rv_histogram:\n",
    "It can be used for generating specific distribution histograms. It can also be inherited from the class.\n",
    "\n",
    "rv_continuous and rv_discrete usually used to implement two different distributions.\n"
   ]
  },
  {
   "cell_type": "markdown",
   "id": "38b7f364-9cc2-43d5-99fc-e3b2b6580e63",
   "metadata": {},
   "source": [
    "### Analysis of Variance (ANOVA) Using scipy states\n",
    "Analysis of variance is used to compare means of groups. "
   ]
  },
  {
   "cell_type": "markdown",
   "id": "7e392b8e-9198-41c6-856a-ea29a037d908",
   "metadata": {},
   "source": [
    "#### Assumptions for One-way ANOVA hypothesis test\n",
    "\n",
    "##### 1. Randomness and  independence\n",
    "Data sample should be selected randomly from popolutions and have to be randomly assigned to each treatment groups. in this way it will be independent of other observed avlues\n",
    "##### 2. Normal Probabilty Distribution\n",
    "Values in each sampled groups are assumed to be drawn from normally distributed populations.\n",
    "##### 3. Variance Homogeneity\n",
    "All the group's variances have to be equal, that is σ₁² = σ₂² = σ₃² = … = σ𝒸²."
   ]
  },
  {
   "cell_type": "code",
   "execution_count": 5,
   "id": "07a8adba-5ba3-4689-b49a-6f28d69d0900",
   "metadata": {},
   "outputs": [],
   "source": [
    "#Importing Required packages and dataset\n",
    "import pandas as pd\n",
    "import matplotlib.pyplot as plt\n",
    "import numpy as np \n",
    "import scipy.stats as stats"
   ]
  },
  {
   "cell_type": "code",
   "execution_count": 1,
   "id": "e3661537-75e2-4acf-850d-d07976612951",
   "metadata": {},
   "outputs": [
    {
     "data": {
      "text/plain": [
       "'3.3.4'"
      ]
     },
     "execution_count": 1,
     "metadata": {},
     "output_type": "execute_result"
    }
   ],
   "source": [
    "import matplotlib\n",
    "matplotlib.__version__"
   ]
  },
  {
   "cell_type": "code",
   "execution_count": 7,
   "id": "2f5ad42c-c469-4d8d-a55c-eed361581eae",
   "metadata": {},
   "outputs": [],
   "source": [
    "# read dataset\n",
    "plants_df = pd.read_csv('plants.csv')\n",
    "groups = plants_df.groupby('group').count().reset_index()"
   ]
  },
  {
   "cell_type": "code",
   "execution_count": 8,
   "id": "1de87c19-4df5-4f81-be25-263acd4104a9",
   "metadata": {},
   "outputs": [
    {
     "data": {
      "text/plain": [
       "<AxesSubplot:xlabel='group'>"
      ]
     },
     "execution_count": 8,
     "metadata": {},
     "output_type": "execute_result"
    },
    {
     "data": {
      "image/png": "[encoded data removed]",
      "text/plain": [
       "<Figure size 432x288 with 1 Axes>"
      ]
     },
     "metadata": {
      "needs_background": "light"
     },
     "output_type": "display_data"
    }
   ],
   "source": [
    "groups.plot(kind='bar',x='group',y='weight')"
   ]
  }
 ],
 "metadata": {
  "kernelspec": {
   "display_name": "Python 3",
   "language": "python",
   "name": "python3"
  },
  "language_info": {
   "codemirror_mode": {
    "name": "ipython",
    "version": 3
   },
   "file_extension": ".py",
   "mimetype": "text/x-python",
   "name": "python",
   "nbconvert_exporter": "python",
   "pygments_lexer": "ipython3",
   "version": "3.8.8"
  }
 },
 "nbformat": 4,
 "nbformat_minor": 5
}
